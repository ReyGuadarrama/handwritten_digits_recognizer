{
  "nbformat": 4,
  "nbformat_minor": 0,
  "metadata": {
    "colab": {
      "provenance": []
    },
    "kernelspec": {
      "name": "python3",
      "display_name": "Python 3"
    },
    "language_info": {
      "name": "python"
    }
  },
  "cells": [
    {
      "cell_type": "code",
      "source": [
        "import network\n",
        "import mnist_loader\n",
        "\n",
        "\n",
        "training_data, validation_data, test_data = mnist_loader.load_data_wrapper()\n",
        "training_data = list(training_data)\n",
        "\n",
        "\n",
        "net = network.Network([784, 30, 10])\n",
        "net.SGD(training_data, 30, 10, 3.0, test_data=test_data)\n"
      ],
      "metadata": {
        "colab": {
          "base_uri": "https://localhost:8080/"
        },
        "id": "nrGe2o1MEeba",
        "outputId": "bfc4e5b9-6d63-44b4-d42c-de232217eb2c"
      },
      "execution_count": 9,
      "outputs": [
        {
          "output_type": "stream",
          "name": "stdout",
          "text": [
            "Epoch 0 : 8222 / 10000\n",
            "Epoch 1 : 9102 / 10000\n",
            "Epoch 2 : 9268 / 10000\n",
            "Epoch 3 : 9320 / 10000\n",
            "Epoch 4 : 9325 / 10000\n",
            "Epoch 5 : 9390 / 10000\n",
            "Epoch 6 : 9415 / 10000\n",
            "Epoch 7 : 9401 / 10000\n",
            "Epoch 8 : 9399 / 10000\n",
            "Epoch 9 : 9433 / 10000\n",
            "Epoch 10 : 9441 / 10000\n",
            "Epoch 11 : 9440 / 10000\n",
            "Epoch 12 : 9459 / 10000\n",
            "Epoch 13 : 9472 / 10000\n",
            "Epoch 14 : 9464 / 10000\n",
            "Epoch 15 : 9485 / 10000\n",
            "Epoch 16 : 9458 / 10000\n",
            "Epoch 17 : 9437 / 10000\n",
            "Epoch 18 : 9464 / 10000\n",
            "Epoch 19 : 9494 / 10000\n",
            "Epoch 20 : 9471 / 10000\n",
            "Epoch 21 : 9477 / 10000\n",
            "Epoch 22 : 9480 / 10000\n",
            "Epoch 23 : 9468 / 10000\n",
            "Epoch 24 : 9517 / 10000\n",
            "Epoch 25 : 9480 / 10000\n",
            "Epoch 26 : 9519 / 10000\n",
            "Epoch 27 : 9516 / 10000\n",
            "Epoch 28 : 9502 / 10000\n",
            "Epoch 29 : 9515 / 10000\n"
          ]
        }
      ]
    }
  ]
}