{
  "nbformat": 4,
  "nbformat_minor": 0,
  "metadata": {
    "colab": {
      "provenance": []
    },
    "kernelspec": {
      "name": "python3",
      "display_name": "Python 3"
    },
    "language_info": {
      "name": "python"
    }
  },
  "cells": [
    {
      "cell_type": "code",
      "source": [
        "import network2\n",
        "\n",
        "net = network2.Network([784, 30, 10], cost=network2.CrossEntropyCost)\n",
        "#net.large_weight_initializer()\n",
        "net.SGD(training_data, 30, 10, 0.1, lmbda = 5.0,evaluation_data=validation_data,\n",
        "    monitor_evaluation_accuracy=True)\n",
        "\n"
      ],
      "metadata": {
        "colab": {
          "base_uri": "https://localhost:8080/"
        },
        "id": "pmrS18Kta89y",
        "outputId": "84c32d5e-27ac-4639-97dc-5a2485ed008e"
      },
      "execution_count": 3,
      "outputs": [
        {
          "output_type": "stream",
          "name": "stdout",
          "text": [
            "Epoch 0 training complete\n",
            "Accuracy on evaluation data: 9285 / 10000\n",
            "Epoch 1 training complete\n",
            "Accuracy on evaluation data: 9392 / 10000\n",
            "Epoch 2 training complete\n",
            "Accuracy on evaluation data: 9474 / 10000\n",
            "Epoch 3 training complete\n",
            "Accuracy on evaluation data: 9501 / 10000\n",
            "Epoch 4 training complete\n",
            "Accuracy on evaluation data: 9509 / 10000\n",
            "Epoch 5 training complete\n",
            "Accuracy on evaluation data: 9549 / 10000\n",
            "Epoch 6 training complete\n",
            "Accuracy on evaluation data: 9561 / 10000\n",
            "Epoch 7 training complete\n",
            "Accuracy on evaluation data: 9581 / 10000\n",
            "Epoch 8 training complete\n",
            "Accuracy on evaluation data: 9584 / 10000\n",
            "Epoch 9 training complete\n",
            "Accuracy on evaluation data: 9595 / 10000\n",
            "Epoch 10 training complete\n",
            "Accuracy on evaluation data: 9602 / 10000\n",
            "Epoch 11 training complete\n",
            "Accuracy on evaluation data: 9603 / 10000\n",
            "Epoch 12 training complete\n",
            "Accuracy on evaluation data: 9593 / 10000\n",
            "Epoch 13 training complete\n",
            "Accuracy on evaluation data: 9611 / 10000\n",
            "Epoch 14 training complete\n",
            "Accuracy on evaluation data: 9616 / 10000\n",
            "Epoch 15 training complete\n",
            "Accuracy on evaluation data: 9604 / 10000\n",
            "Epoch 16 training complete\n",
            "Accuracy on evaluation data: 9604 / 10000\n",
            "Epoch 17 training complete\n",
            "Accuracy on evaluation data: 9623 / 10000\n",
            "Epoch 18 training complete\n",
            "Accuracy on evaluation data: 9614 / 10000\n",
            "Epoch 19 training complete\n",
            "Accuracy on evaluation data: 9616 / 10000\n",
            "Epoch 20 training complete\n",
            "Accuracy on evaluation data: 9640 / 10000\n",
            "Epoch 21 training complete\n",
            "Accuracy on evaluation data: 9623 / 10000\n",
            "Epoch 22 training complete\n",
            "Accuracy on evaluation data: 9617 / 10000\n",
            "Epoch 23 training complete\n",
            "Accuracy on evaluation data: 9631 / 10000\n",
            "Epoch 24 training complete\n",
            "Accuracy on evaluation data: 9620 / 10000\n",
            "Epoch 25 training complete\n",
            "Accuracy on evaluation data: 9638 / 10000\n",
            "Epoch 26 training complete\n",
            "Accuracy on evaluation data: 9631 / 10000\n",
            "Epoch 27 training complete\n",
            "Accuracy on evaluation data: 9622 / 10000\n",
            "Epoch 28 training complete\n",
            "Accuracy on evaluation data: 9619 / 10000\n",
            "Epoch 29 training complete\n",
            "Accuracy on evaluation data: 9650 / 10000\n"
          ]
        },
        {
          "output_type": "execute_result",
          "data": {
            "text/plain": [
              "([],\n",
              " [9285,\n",
              "  9392,\n",
              "  9474,\n",
              "  9501,\n",
              "  9509,\n",
              "  9549,\n",
              "  9561,\n",
              "  9581,\n",
              "  9584,\n",
              "  9595,\n",
              "  9602,\n",
              "  9603,\n",
              "  9593,\n",
              "  9611,\n",
              "  9616,\n",
              "  9604,\n",
              "  9604,\n",
              "  9623,\n",
              "  9614,\n",
              "  9616,\n",
              "  9640,\n",
              "  9623,\n",
              "  9617,\n",
              "  9631,\n",
              "  9620,\n",
              "  9638,\n",
              "  9631,\n",
              "  9622,\n",
              "  9619,\n",
              "  9650],\n",
              " [],\n",
              " [])"
            ]
          },
          "metadata": {},
          "execution_count": 3
        }
      ]
    }
  ]
}